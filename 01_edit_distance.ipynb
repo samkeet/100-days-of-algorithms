{
 "cells": [
  {
   "cell_type": "markdown",
   "metadata": {},
   "source": [
    "###### Edit Distance is the minimum number of operations (insert, delete, replace) required to convert one string into another. "
   ]
  },
  {
   "cell_type": "raw",
   "metadata": {},
   "source": [
    "Example: str1 = \"S\", str2 = \"P\"\n",
    "Hence to convert str1 into str2 we replace the character \"S\" with \"P\". Each operation is assigned a cost of 1.\n",
    "Hence the minimum edit distance is 1"
   ]
  },
  {
   "cell_type": "code",
   "execution_count": 1,
   "metadata": {},
   "outputs": [],
   "source": [
    "def editDistanceRecursive(x, y, index_x, index_y):\n",
    "    if len(x) == 0:\n",
    "        return len(y)\n",
    "    elif len(y) == 0:\n",
    "        return len(x)\n",
    "    elif x[index_x] == y[index_y]:\n",
    "        return editDistanceRecursive(x, y, index_1-1, index_y-1)\n",
    "    else:\n",
    "        return 1 + min(editDistanceRecursive(x,y,index_x-1,index_y),\n",
    "                       editDistanceRecursive(x,y,index_x,index_y-1),\n",
    "                       editDistanceRecursive(x,y,index_x-1,index_y-1))"
   ]
  },
  {
   "cell_type": "raw",
   "metadata": {},
   "source": [
    "However the above approach will result in repeated calls to the same function with same values. Hence if we store the results from each calculation in an array with index_x and index_y as it's indices we can compare and reuse those values"
   ]
  },
  {
   "cell_type": "code",
   "execution_count": 6,
   "metadata": {},
   "outputs": [],
   "source": [
    "def editDistance(str1, str2):\n",
    "    mat = [[0 for x in range(len(str1)+1)] for x in range(len(str2)+1)]\n",
    "    for i in range(len(str1)+1):\n",
    "        for j in range(len(str2)+1):\n",
    "            if i == 0:\n",
    "                mat[i][j] = j\n",
    "            elif j == 0:\n",
    "                mat[i][j] = i\n",
    "            elif str1[i-1] == str2[j-1]:\n",
    "                mat[i][j] = mat[i-1][j-1]\n",
    "            else:\n",
    "                mat[i][j] = 1 + min(mat[i-1][j], mat[i][j-1], mat[i-1][j-1])\n",
    "    return mat[i][j]"
   ]
  },
  {
   "cell_type": "code",
   "execution_count": 7,
   "metadata": {},
   "outputs": [
    {
     "name": "stdout",
     "output_type": "stream",
     "text": [
      "1\n"
     ]
    }
   ],
   "source": [
    "print(editDistance(\"str1\", \"str2\"))"
   ]
  },
  {
   "cell_type": "code",
   "execution_count": null,
   "metadata": {},
   "outputs": [],
   "source": []
  }
 ],
 "metadata": {
  "kernelspec": {
   "display_name": "Python 2",
   "language": "python",
   "name": "python2"
  },
  "language_info": {
   "codemirror_mode": {
    "name": "ipython",
    "version": 2
   },
   "file_extension": ".py",
   "mimetype": "text/x-python",
   "name": "python",
   "nbconvert_exporter": "python",
   "pygments_lexer": "ipython2",
   "version": "2.7.14"
  }
 },
 "nbformat": 4,
 "nbformat_minor": 2
}
