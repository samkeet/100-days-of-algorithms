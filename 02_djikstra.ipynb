{
 "cells": [
  {
   "cell_type": "markdown",
   "metadata": {},
   "source": [
    "### Djikstra's algorithm is an algorithm to find the shortest path from the root node to all other nodes in the graph."
   ]
  },
  {
   "cell_type": "markdown",
   "metadata": {},
   "source": [
    "1. Set the shortest distance for all nodes from root to (inf)\n",
    "2. Put the current node in the queue\n",
    "3. Add all the neighbours of the current node into the queue\n",
    "4. Pop one node at a time, compare distance from the current node to the current shortest distance and update it\n",
    "5. Add the neighbours of the each node to the end of the queue\n",
    "6. Continue until queue is empty"
   ]
  },
  {
   "cell_type": "raw",
   "metadata": {},
   "source": [
    "Representing the graph using an adjacency matrix\n",
    "Assumption for this example: Graph is bidirectional\n",
    "\n",
    "  0 1 2 3 4 5\n",
    "0 0 \n",
    "1   0\n",
    "2     0\n",
    "3       0\n",
    "4         0\n",
    "5           0"
   ]
  },
  {
   "cell_type": "code",
   "execution_count": 39,
   "metadata": {},
   "outputs": [],
   "source": [
    "import sys\n",
    "import random"
   ]
  },
  {
   "cell_type": "code",
   "execution_count": 40,
   "metadata": {},
   "outputs": [
    {
     "name": "stdout",
     "output_type": "stream",
     "text": [
      "[[0, 9223372036854775807, 9223372036854775807, 9223372036854775807, 9223372036854775807], [9223372036854775807, 0, 9223372036854775807, 9223372036854775807, 9223372036854775807], [9223372036854775807, 9223372036854775807, 0, 9223372036854775807, 9223372036854775807], [9223372036854775807, 9223372036854775807, 9223372036854775807, 0, 9223372036854775807], [9223372036854775807, 9223372036854775807, 9223372036854775807, 9223372036854775807, 0]]\n"
     ]
    }
   ],
   "source": [
    "mat = []\n",
    "\n",
    "for i in range(5):\n",
    "    temp = []\n",
    "    for j in range(5):\n",
    "        if i == j:\n",
    "            temp.append(0)\n",
    "        else:\n",
    "            temp.append(sys.maxint)\n",
    "    mat.append(temp)\n",
    "\n",
    "print(mat)"
   ]
  },
  {
   "cell_type": "code",
   "execution_count": 41,
   "metadata": {},
   "outputs": [],
   "source": [
    "mat[0][1] = mat[1][0] = random.randint(1,101)\n",
    "mat[0][4] = mat[4][0] = random.randint(1,101)\n",
    "mat[0][3] = mat[3][0] = random.randint(1,101)\n",
    "mat[1][4] = mat[4][1] = random.randint(1,101)\n",
    "mat[1][2] = mat[2][1] = random.randint(1,101)\n",
    "mat[1][3] = mat[3][1] = random.randint(1,101)\n",
    "mat[2][3] = mat[3][2] = random.randint(1,101)"
   ]
  },
  {
   "cell_type": "code",
   "execution_count": 42,
   "metadata": {},
   "outputs": [
    {
     "data": {
      "text/plain": [
       "[[0, 18, 9223372036854775807, 82, 45],\n",
       " [18, 0, 80, 47, 16],\n",
       " [9223372036854775807, 80, 0, 57, 9223372036854775807],\n",
       " [82, 47, 57, 0, 9223372036854775807],\n",
       " [45, 16, 9223372036854775807, 9223372036854775807, 0]]"
      ]
     },
     "execution_count": 42,
     "metadata": {},
     "output_type": "execute_result"
    }
   ],
   "source": [
    "mat"
   ]
  },
  {
   "cell_type": "code",
   "execution_count": 45,
   "metadata": {},
   "outputs": [],
   "source": [
    "def djikstra(mat, src):\n",
    "\t\"\"\"\n",
    "\t\t1. Find shortest path from source to all other nodes in the graph\n",
    "\t\t2. Initialize shortest distance to all other nodes as inf.\n",
    "\t\t3. Init shortest distance to src as 0\n",
    "\t\t4. Mark other nodes as unvisited\n",
    "\t\t5. While not all nodes are visited\n",
    "\t\t\t6. find all the neighbouring nodes from current node; update their distances\n",
    "\t\t\t7. find the node with the shortest distance; add it to the visited list OR remove it from the unvisited list\n",
    "\t\"\"\"\n",
    "\tvisited = set([])\n",
    "\tdist = [sys.maxint for _ in range(len(mat))]\n",
    "\n",
    "\tdist[src] = 0\n",
    "\tu = src\n",
    "\tfor _ in range(len(mat)):\n",
    "\t\t\n",
    "\t\tvisited.add(u)\n",
    "\t\t\n",
    "\t\tfor v in range(len(mat)):\n",
    "\t\t\tif v not in visited:\n",
    "\t\t\t\tdist[v] = min(dist[v], mat[u][v] + dist[u])\n",
    "\n",
    "\t\tu = get_nearest_neighbour(mat, u, visited)\n",
    "\t\t\n",
    "\treturn dist\n",
    "\n",
    "\n",
    "def get_nearest_neighbour(mat, v, visited):\n",
    "\tmin_dist = sys.maxint\n",
    "\tmin_node = v\n",
    "\tfor i in range(len(mat)):\n",
    "\t\tif mat[v][i] < min_dist and i not in visited:\n",
    "\t\t\tmin_dist = mat[v][i]\n",
    "\t\t\tmin_node = i\n",
    "\treturn min_node"
   ]
  },
  {
   "cell_type": "code",
   "execution_count": 48,
   "metadata": {},
   "outputs": [],
   "source": [
    "res = djikstra(mat, 2)"
   ]
  },
  {
   "cell_type": "code",
   "execution_count": 49,
   "metadata": {},
   "outputs": [
    {
     "data": {
      "text/plain": [
       "[98, 80, 0, 57, 96]"
      ]
     },
     "execution_count": 49,
     "metadata": {},
     "output_type": "execute_result"
    }
   ],
   "source": [
    "res"
   ]
  }
 ],
 "metadata": {
  "kernelspec": {
   "display_name": "Python 2",
   "language": "python",
   "name": "python2"
  },
  "language_info": {
   "codemirror_mode": {
    "name": "ipython",
    "version": 2
   },
   "file_extension": ".py",
   "mimetype": "text/x-python",
   "name": "python",
   "nbconvert_exporter": "python",
   "pygments_lexer": "ipython2",
   "version": "2.7.14"
  }
 },
 "nbformat": 4,
 "nbformat_minor": 2
}
