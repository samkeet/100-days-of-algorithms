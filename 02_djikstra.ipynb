{
 "cells": [
  {
   "cell_type": "markdown",
   "metadata": {},
   "source": [
    "### Djikstra's algorithm is an algorithm to find the shortest path from the root node to all other nodes in the graph."
   ]
  },
  {
   "cell_type": "raw",
   "metadata": {},
   "source": [
    "1. Set the shortest distance for all nodes from root to (inf)\n",
    "2. Put the root in the queue\n",
    "3. Add all the neighbours of the root into the queue\n",
    "4. Pop one node at a time, compare distance from the root to the current shortest distance and update it\n",
    "5. Add the neighbours of the each node to the end of the queue\n",
    "6. Continue until queue is empty"
   ]
  },
  {
   "cell_type": "raw",
   "metadata": {},
   "source": [
    "Representing the graph using an adjacency matrix\n",
    "Assumption for this example: Graph is bidirectional\n",
    "\n",
    "  0 1 2 3 4 5\n",
    "0 0 \n",
    "1   0\n",
    "2     0\n",
    "3       0\n",
    "4         0\n",
    "5           0"
   ]
  },
  {
   "cell_type": "code",
   "execution_count": 66,
   "metadata": {},
   "outputs": [],
   "source": [
    "import sys\n",
    "from collections import deque"
   ]
  },
  {
   "cell_type": "code",
   "execution_count": 71,
   "metadata": {},
   "outputs": [],
   "source": [
    "def shortestpath(mat, src):\n",
    "    # Array to store the shortest distances from the src\n",
    "    dist = []\n",
    "    visited = []\n",
    "    q = deque([])\n",
    "    \n",
    "    # initialize to MAXINT\n",
    "    for i in range(len(mat)):\n",
    "        dist.append(sys.maxint)\n",
    "        \n",
    "    u = src\n",
    "    q.appendleft(u)\n",
    "    \n",
    "    while len(q) != 0:\n",
    "        if u == src:\n",
    "            q.pop()\n",
    "\n",
    "        for v in range(len(mat)):\n",
    "            if mat[u][v] != sys.maxint and v != u:\n",
    "                q.appendleft(v)\n",
    "            \n",
    "        for v in q:\n",
    "            dist[v] = min(mat[u][v] + dist[u], dist[v])\n",
    "        \n",
    "        u = q.pop()\n",
    "\n",
    "    return dist"
   ]
  },
  {
   "cell_type": "code",
   "execution_count": 16,
   "metadata": {},
   "outputs": [],
   "source": [
    "import random"
   ]
  },
  {
   "cell_type": "code",
   "execution_count": 59,
   "metadata": {},
   "outputs": [],
   "source": [
    "mat = []\n",
    "\n",
    "for i in range(5):\n",
    "    temp = []\n",
    "    for j in range(5):\n",
    "        if i == j:\n",
    "            temp.append(0)\n",
    "        else:\n",
    "            temp.append(sys.maxint)\n",
    "    mat.append(temp)"
   ]
  },
  {
   "cell_type": "code",
   "execution_count": 60,
   "metadata": {},
   "outputs": [],
   "source": [
    "mat[0][1] = mat[1][0] = random.randint(1,101)\n",
    "mat[0][4] = mat[4][0] = random.randint(1,101)\n",
    "mat[0][3] = mat[3][0] = random.randint(1,101)\n",
    "mat[1][4] = mat[4][1] = random.randint(1,101)\n",
    "mat[1][2] = mat[2][1] = random.randint(1,101)\n",
    "mat[1][3] = mat[3][1] = random.randint(1,101)\n",
    "mat[2][3] = mat[3][2] = random.randint(1,101)"
   ]
  },
  {
   "cell_type": "code",
   "execution_count": 61,
   "metadata": {},
   "outputs": [
    {
     "name": "stdout",
     "output_type": "stream",
     "text": [
      "[[0, 87, 9223372036854775807, 77, 40], [87, 0, 68, 57, 22], [9223372036854775807, 68, 0, 38, 9223372036854775807], [77, 57, 38, 0, 9223372036854775807], [40, 22, 9223372036854775807, 9223372036854775807, 0]]\n"
     ]
    }
   ],
   "source": [
    "print(mat)"
   ]
  },
  {
   "cell_type": "code",
   "execution_count": 62,
   "metadata": {},
   "outputs": [],
   "source": [
    "src = 2"
   ]
  },
  {
   "cell_type": "code",
   "execution_count": null,
   "metadata": {},
   "outputs": [],
   "source": [
    "res = shortestpath(mat, src)"
   ]
  },
  {
   "cell_type": "code",
   "execution_count": null,
   "metadata": {},
   "outputs": [],
   "source": [
    "res"
   ]
  },
  {
   "cell_type": "markdown",
   "metadata": {},
   "source": [
    "## Looks like a cycle in the graph.\n",
    "#### One of the drawbacks of Djikstra"
   ]
  },
  {
   "cell_type": "code",
   "execution_count": null,
   "metadata": {},
   "outputs": [],
   "source": []
  }
 ],
 "metadata": {
  "kernelspec": {
   "display_name": "Python 2",
   "language": "python",
   "name": "python2"
  },
  "language_info": {
   "codemirror_mode": {
    "name": "ipython",
    "version": 2
   },
   "file_extension": ".py",
   "mimetype": "text/x-python",
   "name": "python",
   "nbconvert_exporter": "python",
   "pygments_lexer": "ipython2",
   "version": "2.7.14"
  }
 },
 "nbformat": 4,
 "nbformat_minor": 2
}
