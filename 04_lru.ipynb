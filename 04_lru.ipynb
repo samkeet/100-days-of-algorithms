{
 "cells": [
  {
   "cell_type": "markdown",
   "metadata": {},
   "source": [
    "### Least Recently Used algorithm; commonly used as cache replacement policy"
   ]
  },
  {
   "cell_type": "markdown",
   "metadata": {},
   "source": [
    "Would need the size of the cache. A data structure to store the cache and operations to rectrieve that data.First notion would be to somehow use a hashmap. Since it allows O(1) access times for insertions and retrieval. Needs more testing and code optimization and cleanup. Based upon the few tests run, looks good!"
   ]
  },
  {
   "cell_type": "markdown",
   "metadata": {},
   "source": [
    "### Notes:\n",
    "Cache has a specific user defined size. Get and Set operations implemented\n",
    "\n",
    "### Approach:\n",
    "###### Get:\n",
    "1. Key is absent; return -1\n",
    "2. Key is present; update LRU policy\n",
    "        updateLRUPolicyonGet:\n",
    "        if Required key is already at the top; do nothing\n",
    "        else move the key to the top and shift all other keys down by 1 rank.\n",
    "\n",
    "###### Set:\n",
    "1. Key is already present; consider this as a get operation & update LRU policy as above\n",
    "2. Key is absent, hence needs to be added; updateLRU policy then\n",
    "        updateLRUPolicyonSet:\n",
    "        if cache is not full; no need to remove any previous lru key. shift all keys down by 1 rank and add the new key to the top. \n",
    "        if cache is full; get the lru key; shift all keys down by 1; add the new key; remove the lru key\n",
    "        \n",
    "#### Data Structures Used:\n",
    "##### HashMaps \n",
    "\n",
    "1. ranks_vs_keys: Used to maintain the main LRU policy to determine the order of recently accessed keys\n",
    "2. keys_vs_ranks: Used to maintain a mapping of the ranks of the keys in terms of recently used\n",
    "3. cache: main datastore for key:value pairs"
   ]
  },
  {
   "cell_type": "markdown",
   "metadata": {},
   "source": [
    "### Analysis\n",
    "###### Get Operation:\n",
    "1. Worst Case: O(n)  ||  When the key requested is the least recently used. Need to shift all above keys down by 1 rank\n",
    "2. Best Case: O(1) || Key request is the most recently used\n",
    "\n",
    "###### Set Operation:\n",
    "1. Worst Case & Average Case: O(n) || New element and cache is full, requires shifting of all elements down\n",
    "2. Best Case: O(1) || Cache is empty"
   ]
  },
  {
   "cell_type": "markdown",
   "metadata": {},
   "source": [
    "### Bugs\n",
    "1. Now handling same keys with different values"
   ]
  },
  {
   "cell_type": "code",
   "execution_count": 16,
   "metadata": {},
   "outputs": [],
   "source": [
    "import json"
   ]
  },
  {
   "cell_type": "code",
   "execution_count": 147,
   "metadata": {},
   "outputs": [],
   "source": [
    "class LRUCache:\n",
    "\n",
    "    def __init__(self, capacity):\n",
    "        self.size = capacity\n",
    "        self.used_capacity = 0\n",
    "        # store hashedkeys\n",
    "        self.ranks_vs_keys = {}\n",
    "        self.keys_vs_ranks = {}\n",
    "        self.cache = {}\n",
    "        # store raw keys\n",
    "        self.keys_count = {}\n",
    "        self.keys_vs_hashes = {}\n",
    "        \n",
    "    def get(self, key):\n",
    "        if key not in self.keys_count:\n",
    "            return -1\n",
    "        else:\n",
    "            hashed_keys = self.generateHashedKeys(key)\n",
    "            mru_key = self.getMRUHash(hashed_keys)\n",
    "            self.updateLRUOnGet(mru_key)\n",
    "            val = self.cache[mru_key]\n",
    "        print(self)\n",
    "        return val   \n",
    "\n",
    "    def put(self, key, value):\n",
    "        if key in self.keys_count:\n",
    "            hashed_keys = self.generateHashedKeys(key)\n",
    "            if self.sameKeyPair(hashed_keys, value):\n",
    "                _ = self.updateLRUOnGet(key)\n",
    "            else:\n",
    "                self.keys_count[key] += 1\n",
    "                key_hash = self.gethash(key, self.keys_count[key])\n",
    "                self.keys_vs_hashes[key].add(key_hash)\n",
    "                self.updateLRUOnSet(key_hash, value)\n",
    "        else:\n",
    "            self.keys_count[key] = 1\n",
    "            key_hash = self.gethash(key, self.keys_count[key])\n",
    "            self.keys_vs_hashes[key] = set([key_hash])\n",
    "            self.updateLRUOnSet(key_hash, value)\n",
    "        print(self)\n",
    "        \n",
    "    def sameKeyPair(self, hashed_keys, value):\n",
    "        for each_hash in hashed_keys:\n",
    "            if value == self.cache[each_hash]:\n",
    "                return True\n",
    "        return False\n",
    "\n",
    "    def generateHashedKeys(self, key):\n",
    "        keys_count = self.keys_count[key]\n",
    "        result = set()\n",
    "        for i in range(1, keys_count+1):\n",
    "            result.add(self.gethash(key, i))\n",
    "        return result\n",
    "\n",
    "    def gethash(self, val1, val2):\n",
    "        res = str(hash(str(val1)) + hash(str(val2)))\n",
    "        return res\n",
    "\n",
    "    def getMRUHash(self, hashed_keys):\n",
    "        max_rank = -1\n",
    "        for each_hash in hashed_keys:\n",
    "            if self.keys_vs_ranks[each_hash] > max_rank:\n",
    "                max_rank = self.keys_vs_ranks[each_hash]\n",
    "        return self.ranks_vs_keys[max_rank]\n",
    "        \n",
    "    def updateLRUOnGet(self, key):\n",
    "        if self.ranks_vs_keys[self.size] == key:\n",
    "            return\n",
    "        else:\n",
    "            # update ranks of all keys above the rank of the key in the get request.\n",
    "            curr_key_rank = self.keys_vs_ranks[key]\n",
    "            new_key = key\n",
    "            for rank in range(self.size, curr_key_rank - 1, -1):\n",
    "                curr_key = self.ranks_vs_keys[rank]\n",
    "                self.ranks_vs_keys[rank] = new_key\n",
    "                self.keys_vs_ranks[new_key] = rank\n",
    "                new_key = curr_key\n",
    "    \n",
    "    def updateLRUOnSet(self, key, val):\n",
    "        if self.used_capacity < self.size:\n",
    "            if self.used_capacity != 0:\n",
    "                for rank in range(self.size - self.used_capacity, self.size):\n",
    "                    next_key = self.ranks_vs_keys[rank + 1]\n",
    "                    self.ranks_vs_keys[rank] = next_key\n",
    "                    self.keys_vs_ranks[next_key] = rank\n",
    "            self.ranks_vs_keys[self.size] = key\n",
    "            self.keys_vs_ranks[key] = self.size\n",
    "            self.used_capacity += 1\n",
    "        else:\n",
    "            least_recently_used_key = self.ranks_vs_keys[1]\n",
    "            new_key = key\n",
    "            for rank in range(self.size, 0, -1):\n",
    "                curr_key = self.ranks_vs_keys[rank]\n",
    "                self.ranks_vs_keys[rank] = new_key\n",
    "                self.keys_vs_ranks[new_key] = rank\n",
    "                new_key = curr_key\n",
    "            del self.cache[least_recently_used_key]\n",
    "            del self.keys_vs_ranks[least_recently_used_key]\n",
    "            self.updateKeyCount(least_recently_used_key)\n",
    "        self.cache[key] = val\n",
    "        \n",
    "    def updateKeyCount(self, lru_key):\n",
    "        for key, val in self.keys_vs_hashes.iteritems():\n",
    "            if lru_key in val:\n",
    "                val.remove(lru_key)\n",
    "                self.keys_count[key] -= 1\n",
    "                break\n",
    "        if self.keys_count[key] == 0:\n",
    "            del self.keys_count[key]\n",
    "            del self.keys_vs_hashes[key]\n",
    "\n",
    "    def __repr__(self):\n",
    "        return \"KEYS_COUNT: %s\\nCACHE: %s\\nRANKS vs KEYS: %s\\nKEYS vs RANKS: %s\\nKEYS vs HASH: %s\" % (json.dumps(self.keys_count),\n",
    "                                                                                    json.dumps(self.cache),\n",
    "                                                                                    json.dumps(self.ranks_vs_keys),\n",
    "                                                                                    json.dumps(self.keys_vs_ranks),\n",
    "                                                                                    self.keys_vs_hashes)"
   ]
  },
  {
   "cell_type": "code",
   "execution_count": 148,
   "metadata": {},
   "outputs": [],
   "source": [
    "l = LRUCache(2)"
   ]
  },
  {
   "cell_type": "code",
   "execution_count": 149,
   "metadata": {},
   "outputs": [
    {
     "name": "stdout",
     "output_type": "stream",
     "text": [
      "KEYS_COUNT: {\"2\": 1}\n",
      "CACHE: {\"12672038115\": 1}\n",
      "RANKS vs KEYS: {\"2\": \"12672038115\"}\n",
      "KEYS vs RANKS: {\"12672038115\": 2}\n",
      "KEYS vs HASH: {2: set(['12672038115'])}\n"
     ]
    }
   ],
   "source": [
    "l.put(2, 1)"
   ]
  },
  {
   "cell_type": "code",
   "execution_count": 150,
   "metadata": {},
   "outputs": [
    {
     "name": "stdout",
     "output_type": "stream",
     "text": [
      "KEYS_COUNT: {\"2\": 2}\n",
      "CACHE: {\"12800038502\": 2, \"12672038115\": 1}\n",
      "RANKS vs KEYS: {\"1\": \"12672038115\", \"2\": \"12800038502\"}\n",
      "KEYS vs RANKS: {\"12800038502\": 2, \"12672038115\": 1}\n",
      "KEYS vs HASH: {2: set(['12800038502', '12672038115'])}\n"
     ]
    }
   ],
   "source": [
    "l.put(2,2)"
   ]
  },
  {
   "cell_type": "code",
   "execution_count": 151,
   "metadata": {},
   "outputs": [
    {
     "name": "stdout",
     "output_type": "stream",
     "text": [
      "KEYS_COUNT: {\"2\": 2}\n",
      "CACHE: {\"12800038502\": 2, \"12672038115\": 1}\n",
      "RANKS vs KEYS: {\"1\": \"12672038115\", \"2\": \"12800038502\"}\n",
      "KEYS vs RANKS: {\"12800038502\": 2, \"12672038115\": 1}\n",
      "KEYS vs HASH: {2: set(['12800038502', '12672038115'])}\n"
     ]
    },
    {
     "data": {
      "text/plain": [
       "2"
      ]
     },
     "execution_count": 151,
     "metadata": {},
     "output_type": "execute_result"
    }
   ],
   "source": [
    "l.get(2)"
   ]
  },
  {
   "cell_type": "code",
   "execution_count": 152,
   "metadata": {},
   "outputs": [
    {
     "name": "stdout",
     "output_type": "stream",
     "text": [
      "KEYS_COUNT: {\"2\": 1, \"7\": 1}\n",
      "CACHE: {\"13312040038\": 14, \"12800038502\": 2}\n",
      "RANKS vs KEYS: {\"1\": \"12800038502\", \"2\": \"13312040038\"}\n",
      "KEYS vs RANKS: {\"13312040038\": 2, \"12800038502\": 1}\n",
      "KEYS vs HASH: {2: set(['12800038502']), 7: set(['13312040038'])}\n"
     ]
    }
   ],
   "source": [
    "l.put(7,14)"
   ]
  },
  {
   "cell_type": "code",
   "execution_count": 153,
   "metadata": {},
   "outputs": [
    {
     "name": "stdout",
     "output_type": "stream",
     "text": [
      "KEYS_COUNT: {\"2\": 1, \"7\": 1}\n",
      "CACHE: {\"13312040038\": 14, \"12800038502\": 2}\n",
      "RANKS vs KEYS: {\"1\": \"12800038502\", \"2\": \"13312040038\"}\n",
      "KEYS vs RANKS: {\"13312040038\": 2, \"12800038502\": 1}\n",
      "KEYS vs HASH: {2: set(['12800038502']), 7: set(['13312040038'])}\n"
     ]
    },
    {
     "data": {
      "text/plain": [
       "14"
      ]
     },
     "execution_count": 153,
     "metadata": {},
     "output_type": "execute_result"
    }
   ],
   "source": [
    "l.get(7)"
   ]
  },
  {
   "cell_type": "code",
   "execution_count": 154,
   "metadata": {},
   "outputs": [
    {
     "data": {
      "text/plain": [
       "-1"
      ]
     },
     "execution_count": 154,
     "metadata": {},
     "output_type": "execute_result"
    }
   ],
   "source": [
    "l.get(36)"
   ]
  },
  {
   "cell_type": "code",
   "execution_count": 155,
   "metadata": {},
   "outputs": [
    {
     "data": {
      "text/plain": [
       "-1"
      ]
     },
     "execution_count": 155,
     "metadata": {},
     "output_type": "execute_result"
    }
   ],
   "source": [
    "l.get(33)"
   ]
  },
  {
   "cell_type": "code",
   "execution_count": 156,
   "metadata": {},
   "outputs": [
    {
     "data": {
      "text/plain": [
       "-1"
      ]
     },
     "execution_count": 156,
     "metadata": {},
     "output_type": "execute_result"
    }
   ],
   "source": [
    "l.get(10)"
   ]
  },
  {
   "cell_type": "code",
   "execution_count": 157,
   "metadata": {},
   "outputs": [
    {
     "name": "stdout",
     "output_type": "stream",
     "text": [
      "KEYS_COUNT: {\"5\": 1, \"7\": 1}\n",
      "CACHE: {\"13312040038\": 14, \"13056039268\": 17}\n",
      "RANKS vs KEYS: {\"1\": \"13312040038\", \"2\": \"13056039268\"}\n",
      "KEYS vs RANKS: {\"13312040038\": 1, \"13056039268\": 2}\n",
      "KEYS vs HASH: {5: set(['13056039268']), 7: set(['13312040038'])}\n"
     ]
    }
   ],
   "source": [
    "l.put(5,17)"
   ]
  }
 ],
 "metadata": {
  "kernelspec": {
   "display_name": "Python 2",
   "language": "python",
   "name": "python2"
  },
  "language_info": {
   "codemirror_mode": {
    "name": "ipython",
    "version": 2
   },
   "file_extension": ".py",
   "mimetype": "text/x-python",
   "name": "python",
   "nbconvert_exporter": "python",
   "pygments_lexer": "ipython2",
   "version": "2.7.14"
  }
 },
 "nbformat": 4,
 "nbformat_minor": 2
}
