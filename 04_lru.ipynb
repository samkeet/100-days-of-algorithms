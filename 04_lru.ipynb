{
 "cells": [
  {
   "cell_type": "markdown",
   "metadata": {},
   "source": [
    "### Least Recently Used algorithm; commonly used as cache replacement policy"
   ]
  },
  {
   "cell_type": "markdown",
   "metadata": {},
   "source": [
    "Would need the size of the cache. A data structure to store the cache and operations to rectrieve that data.First notion would be to somehow use a hashmap. Since it allows O(1) access times for insertions and retrieval. Needs more testing and code optimization and cleanup. Based upon the few tests run, looks good!"
   ]
  },
  {
   "cell_type": "markdown",
   "metadata": {},
   "source": [
    "#### Notes:\n",
    "##### Cache has a specific user defined size. Get and Set operations implemented\n",
    "\n",
    "#### Approach:\n",
    "###### Get:\n",
    "1. Key is absent; return -1\n",
    "2. Key is present; update LRU policy\n",
    "        updateLRUPolicyonGet:\n",
    "        if Required key is already at the top; do nothing\n",
    "        else move the key to the top and shift all other keys down by 1 rank.\n",
    "\n",
    "###### Set:\n",
    "1. Key is already present; consider this as a get operation & update LRU policy as above\n",
    "2. Key is absent, hence needs to be added; updateLRU policy then\n",
    "        updateLRUPolicyonSet:\n",
    "        if cache is not full; no need to remove any previous lru key. shift all keys down by 1 rank and add the new key to the top. \n",
    "        if cache is full; get the lru key; shift all keys down by 1; add the new key; remove the lru key\n",
    "        \n",
    "#### Data Structures Used:\n",
    "##### HashMaps \n",
    "\n",
    "1. ranks_vs_keys: Used to maintain the main LRU policy to determine the order of recently accessed keys\n",
    "2. keys_vs_ranks: Used to maintain a mapping of the ranks of the keys in terms of recently used\n",
    "3. cache: main datastore for key:value pairs"
   ]
  },
  {
   "cell_type": "code",
   "execution_count": 1,
   "metadata": {},
   "outputs": [],
   "source": [
    "import json"
   ]
  },
  {
   "cell_type": "code",
   "execution_count": 2,
   "metadata": {},
   "outputs": [],
   "source": [
    "class LRUCache:\n",
    "\n",
    "    def __init__(self, capacity):\n",
    "        self.size = capacity\n",
    "        self.used_capacity = 0\n",
    "        self.ranks_vs_keys = {}\n",
    "        self.keys_vs_ranks = {}\n",
    "        self.cache = {}\n",
    "        \n",
    "    def get(self, key):\n",
    "        if key not in self.cache.keys():\n",
    "            val = -1\n",
    "        else:\n",
    "            self.updateLRUOnGet(key)\n",
    "            val = self.cache[key]\n",
    "        print(self)\n",
    "        return val\n",
    "\n",
    "    def put(self, key, value):\n",
    "        if key in self.cache.keys():\n",
    "            self.updateLRUOnGet(key)\n",
    "        else:\n",
    "            self.updateLRUOnSet(key, value)\n",
    "        print(self)\n",
    "\n",
    "    def updateLRUOnGet(self, key):\n",
    "        if self.ranks_vs_keys[self.size] == key:\n",
    "            return\n",
    "        else:\n",
    "            # update ranks of all keys above the rank of the key in the get request.\n",
    "            curr_key_rank = self.keys_vs_ranks[key]\n",
    "            new_key = key\n",
    "            for rank in range(self.size, curr_key_rank - 1, -1):\n",
    "                curr_key = self.ranks_vs_keys[rank]\n",
    "                self.ranks_vs_keys[rank] = new_key\n",
    "                self.keys_vs_ranks[new_key] = rank\n",
    "                new_key = curr_key\n",
    "    \n",
    "    def updateLRUOnSet(self, key, val):\n",
    "        if self.used_capacity < self.size:\n",
    "            if self.used_capacity != 0:\n",
    "                for rank in range(self.size - self.used_capacity, self.size):\n",
    "                    next_key = self.ranks_vs_keys[rank + 1]\n",
    "                    self.ranks_vs_keys[rank] = next_key\n",
    "                    self.keys_vs_ranks[next_key] = rank\n",
    "            self.ranks_vs_keys[self.size] = key\n",
    "            self.keys_vs_ranks[key] = self.size\n",
    "            self.used_capacity += 1\n",
    "        else:\n",
    "            least_recently_used_key = self.ranks_vs_keys[1]\n",
    "            new_key = key\n",
    "            for rank in range(self.size, 0, -1):\n",
    "                curr_key = self.ranks_vs_keys[rank]\n",
    "                self.ranks_vs_keys[rank] = new_key\n",
    "                self.keys_vs_ranks[new_key] = rank\n",
    "                new_key = curr_key\n",
    "            del self.cache[least_recently_used_key]\n",
    "            del self.keys_vs_ranks[least_recently_used_key]\n",
    "        self.cache[key] = val\n",
    "        \n",
    "    def __repr__(self):\n",
    "        return \"CACHE: %s\\nRANKS vs KEYS: %s\\nKEYS vs RANKS: %s\" % (json.dumps(self.cache),\n",
    "                                                                  json.dumps(self.ranks_vs_keys),\n",
    "                                                                  json.dumps(self.keys_vs_ranks))"
   ]
  },
  {
   "cell_type": "code",
   "execution_count": 3,
   "metadata": {},
   "outputs": [],
   "source": [
    "l = LRUCache(4)"
   ]
  },
  {
   "cell_type": "code",
   "execution_count": 4,
   "metadata": {},
   "outputs": [
    {
     "name": "stdout",
     "output_type": "stream",
     "text": [
      "CACHE: {\"36\": 72}\n",
      "RANKS vs KEYS: {\"4\": 36}\n",
      "KEYS vs RANKS: {\"36\": 4}\n"
     ]
    }
   ],
   "source": [
    "l.put(36, 72)"
   ]
  },
  {
   "cell_type": "code",
   "execution_count": 5,
   "metadata": {},
   "outputs": [
    {
     "name": "stdout",
     "output_type": "stream",
     "text": [
      "CACHE: {\"2\": 11, \"36\": 72}\n",
      "RANKS vs KEYS: {\"3\": 36, \"4\": 2}\n",
      "KEYS vs RANKS: {\"2\": 4, \"36\": 3}\n"
     ]
    }
   ],
   "source": [
    "l.put(2,11)"
   ]
  },
  {
   "cell_type": "code",
   "execution_count": 6,
   "metadata": {},
   "outputs": [
    {
     "name": "stdout",
     "output_type": "stream",
     "text": [
      "CACHE: {\"2\": 11, \"36\": 72, \"10\": 20}\n",
      "RANKS vs KEYS: {\"2\": 36, \"3\": 2, \"4\": 10}\n",
      "KEYS vs RANKS: {\"2\": 3, \"36\": 2, \"10\": 4}\n"
     ]
    }
   ],
   "source": [
    "l.put(10,20)"
   ]
  },
  {
   "cell_type": "code",
   "execution_count": 7,
   "metadata": {},
   "outputs": [
    {
     "name": "stdout",
     "output_type": "stream",
     "text": [
      "CACHE: {\"2\": 11, \"36\": 72, \"10\": 20, \"7\": 14}\n",
      "RANKS vs KEYS: {\"1\": 36, \"2\": 2, \"3\": 10, \"4\": 7}\n",
      "KEYS vs RANKS: {\"2\": 2, \"36\": 1, \"10\": 3, \"7\": 4}\n"
     ]
    }
   ],
   "source": [
    "l.put(7,14)"
   ]
  },
  {
   "cell_type": "code",
   "execution_count": 8,
   "metadata": {},
   "outputs": [
    {
     "name": "stdout",
     "output_type": "stream",
     "text": [
      "CACHE: {\"2\": 11, \"36\": 72, \"10\": 20, \"7\": 14}\n",
      "RANKS vs KEYS: {\"1\": 36, \"2\": 2, \"3\": 10, \"4\": 7}\n",
      "KEYS vs RANKS: {\"2\": 2, \"36\": 1, \"10\": 3, \"7\": 4}\n"
     ]
    },
    {
     "data": {
      "text/plain": [
       "14"
      ]
     },
     "execution_count": 8,
     "metadata": {},
     "output_type": "execute_result"
    }
   ],
   "source": [
    "l.get(7)"
   ]
  },
  {
   "cell_type": "code",
   "execution_count": 9,
   "metadata": {},
   "outputs": [
    {
     "name": "stdout",
     "output_type": "stream",
     "text": [
      "CACHE: {\"2\": 11, \"36\": 72, \"10\": 20, \"7\": 14}\n",
      "RANKS vs KEYS: {\"1\": 2, \"2\": 10, \"3\": 7, \"4\": 36}\n",
      "KEYS vs RANKS: {\"2\": 1, \"36\": 4, \"10\": 2, \"7\": 3}\n"
     ]
    },
    {
     "data": {
      "text/plain": [
       "72"
      ]
     },
     "execution_count": 9,
     "metadata": {},
     "output_type": "execute_result"
    }
   ],
   "source": [
    "l.get(36)"
   ]
  },
  {
   "cell_type": "code",
   "execution_count": 10,
   "metadata": {},
   "outputs": [
    {
     "name": "stdout",
     "output_type": "stream",
     "text": [
      "CACHE: {\"2\": 11, \"36\": 72, \"10\": 20, \"7\": 14}\n",
      "RANKS vs KEYS: {\"1\": 2, \"2\": 10, \"3\": 7, \"4\": 36}\n",
      "KEYS vs RANKS: {\"2\": 1, \"36\": 4, \"10\": 2, \"7\": 3}\n"
     ]
    },
    {
     "data": {
      "text/plain": [
       "-1"
      ]
     },
     "execution_count": 10,
     "metadata": {},
     "output_type": "execute_result"
    }
   ],
   "source": [
    "l.get(33)"
   ]
  },
  {
   "cell_type": "code",
   "execution_count": 11,
   "metadata": {},
   "outputs": [
    {
     "name": "stdout",
     "output_type": "stream",
     "text": [
      "CACHE: {\"2\": 11, \"36\": 72, \"10\": 20, \"7\": 14}\n",
      "RANKS vs KEYS: {\"1\": 2, \"2\": 7, \"3\": 36, \"4\": 10}\n",
      "KEYS vs RANKS: {\"2\": 1, \"36\": 3, \"10\": 4, \"7\": 2}\n"
     ]
    },
    {
     "data": {
      "text/plain": [
       "20"
      ]
     },
     "execution_count": 11,
     "metadata": {},
     "output_type": "execute_result"
    }
   ],
   "source": [
    "l.get(10)"
   ]
  },
  {
   "cell_type": "code",
   "execution_count": 12,
   "metadata": {},
   "outputs": [
    {
     "name": "stdout",
     "output_type": "stream",
     "text": [
      "CACHE: {\"5\": 17, \"36\": 72, \"10\": 20, \"7\": 14}\n",
      "RANKS vs KEYS: {\"1\": 7, \"2\": 36, \"3\": 10, \"4\": 5}\n",
      "KEYS vs RANKS: {\"5\": 4, \"36\": 2, \"10\": 3, \"7\": 1}\n"
     ]
    }
   ],
   "source": [
    "l.put(5,17)"
   ]
  }
 ],
 "metadata": {
  "kernelspec": {
   "display_name": "Python 2",
   "language": "python",
   "name": "python2"
  },
  "language_info": {
   "codemirror_mode": {
    "name": "ipython",
    "version": 2
   },
   "file_extension": ".py",
   "mimetype": "text/x-python",
   "name": "python",
   "nbconvert_exporter": "python",
   "pygments_lexer": "ipython2",
   "version": "2.7.14"
  }
 },
 "nbformat": 4,
 "nbformat_minor": 2
}
