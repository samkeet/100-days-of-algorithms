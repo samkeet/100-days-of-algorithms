{
 "cells": [
  {
   "cell_type": "markdown",
   "metadata": {},
   "source": [
    "# 50. pow(x,n)\n",
    "\n",
    "In an attempt to make it optimal by implementing dynamic programming that is reusing previously computed results, it needs an extra array to store the results.\n",
    "Hence it results in a memory error if the exponent is large\n",
    "\n",
    "Corner cases:\n",
    "1. n == 0\n",
    "2. n < 0\n",
    "3. n (very large)"
   ]
  },
  {
   "cell_type": "code",
   "execution_count": 11,
   "metadata": {},
   "outputs": [],
   "source": [
    "class Solution(object):\n",
    "    def myPow(self, x, n):\n",
    "        \"\"\"\n",
    "        :type x: float\n",
    "        :type n: int\n",
    "        :rtype: float\n",
    "        \"\"\"\n",
    "        res = [-1 for i in range(abs(n)+1)]\n",
    "        result = self.mypowhelper(x, abs(n), res)\n",
    "        if n < 0:\n",
    "            return round(1/result, 5)\n",
    "        elif n == 0:\n",
    "            return 1\n",
    "        else:\n",
    "            return round(result, 5)\n",
    "        \n",
    "            \n",
    "    def mypowhelper(self, x, n, res):\n",
    "        if res[n] != -1:\n",
    "            return res[n]\n",
    "        elif n == 1:\n",
    "            return x\n",
    "        else:\n",
    "            res[n/2] = self.mypowhelper(x, n/2, res)\n",
    "            res[n-n/2] = self.mypowhelper(x, n-n/2, res)\n",
    "            res[n] = res[n/2] * res[n-n/2]\n",
    "            return res[n]"
   ]
  },
  {
   "cell_type": "code",
   "execution_count": 12,
   "metadata": {
    "scrolled": true
   },
   "outputs": [
    {
     "data": {
      "text/plain": [
       "9.261"
      ]
     },
     "execution_count": 12,
     "metadata": {},
     "output_type": "execute_result"
    }
   ],
   "source": [
    "round(Solution().myPow(2.1000,3),5)"
   ]
  },
  {
   "cell_type": "code",
   "execution_count": null,
   "metadata": {},
   "outputs": [],
   "source": []
  }
 ],
 "metadata": {
  "kernelspec": {
   "display_name": "Python 2",
   "language": "python",
   "name": "python2"
  },
  "language_info": {
   "codemirror_mode": {
    "name": "ipython",
    "version": 2
   },
   "file_extension": ".py",
   "mimetype": "text/x-python",
   "name": "python",
   "nbconvert_exporter": "python",
   "pygments_lexer": "ipython2",
   "version": "2.7.14"
  }
 },
 "nbformat": 4,
 "nbformat_minor": 2
}
