{
 "cells": [
  {
   "cell_type": "markdown",
   "metadata": {},
   "source": [
    "### 795. Number of Subarrays with Bounded Maximum"
   ]
  },
  {
   "cell_type": "raw",
   "metadata": {},
   "source": [
    "We are given an array A of positive integers, and two positive integers L and R (L <= R).\n",
    "\n",
    "Return the number of (contiguous, non-empty) subarrays such that the value of the maximum array element in that subarray is at least L and at most R.\n",
    "\n",
    "Example :\n",
    "Input: \n",
    "A = [2, 1, 4, 3]\n",
    "L = 2\n",
    "R = 3\n",
    "Output: 3\n",
    "Explanation: There are three subarrays that meet the requirements: [2], [2, 1], [3].\n",
    "Note:\n",
    "\n",
    "L, R  and A[i] will be an integer in the range [0, 10^9].\n",
    "The length of A will be in the range of [1, 50000]."
   ]
  },
  {
   "cell_type": "raw",
   "metadata": {},
   "source": [
    "Thoughts:\n",
    "First approach would be to increment the count of subarrays at inclusion of each new element. Since for each addition of element that satisfies the given conditions, 2 new arrays are counted. One for the individual element and one by adding it to the old array. When we encounter an element that does not satisfy the condition, we stop and repeat the procedure from the next element as first. However this is a brute force approach.\n",
    "\n",
    "====\n",
    "Optimal:\n",
    "Rather than going back to the next element and starting again, we step to the element after the non-conforming element in the original array.\n",
    "\n",
    "=== \n",
    "Tricks:\n",
    "Keeping a track of consecutive elements smaller than L.\n",
    "The Maximum value does not make a difference as long as it is within the constraints."
   ]
  },
  {
   "cell_type": "code",
   "execution_count": 2,
   "metadata": {},
   "outputs": [],
   "source": [
    "class Solution(object):\n",
    "    def numSubarrayBoundedMax(self, A, L, R):\n",
    "        \"\"\"\n",
    "        :type A: List[int]\n",
    "        :type L: int\n",
    "        :type R: int\n",
    "        :rtype: int\n",
    "        \"\"\"\n",
    "        i = 0\n",
    "        j = 0\n",
    "        count = 0\n",
    "        prev_count = 0\n",
    "        while i < len(A) and j < len(A):\n",
    "            val = A[j]\n",
    "            print(\"Count={}, i={}, j={}, A[j]={}, Prev={}\".format(count, i, j, val, prev_count))\n",
    "            if val <= R:\n",
    "                if val < L:\n",
    "                    count += (j-i-prev_count)\n",
    "                    prev_count += 1\n",
    "                else:\n",
    "                    prev_count = 0\n",
    "                    count += (j-i-prev_count) + 1\n",
    "            else:\n",
    "                prev_count = 0\n",
    "                i = j + 1\n",
    "            j += 1\n",
    "        return count"
   ]
  },
  {
   "cell_type": "code",
   "execution_count": 3,
   "metadata": {},
   "outputs": [
    {
     "name": "stdout",
     "output_type": "stream",
     "text": [
      "Count=0, i=0, j=0, A[j]=73, Prev=0\n",
      "Count=0, i=1, j=1, A[j]=55, Prev=0\n",
      "Count=1, i=1, j=2, A[j]=36, Prev=0\n",
      "Count=3, i=1, j=3, A[j]=5, Prev=0\n",
      "Count=5, i=1, j=4, A[j]=55, Prev=1\n",
      "Count=9, i=1, j=5, A[j]=14, Prev=0\n",
      "Count=13, i=1, j=6, A[j]=9, Prev=1\n",
      "Count=17, i=1, j=7, A[j]=7, Prev=2\n",
      "Count=21, i=1, j=8, A[j]=72, Prev=3\n",
      "Count=21, i=9, j=9, A[j]=52, Prev=0\n",
      "22\n"
     ]
    }
   ],
   "source": [
    "print(Solution().numSubarrayBoundedMax(list([73,55,36,5,55,14,9,7,72,52]), 32, 69))"
   ]
  }
 ],
 "metadata": {
  "kernelspec": {
   "display_name": "Python 2",
   "language": "python",
   "name": "python2"
  },
  "language_info": {
   "codemirror_mode": {
    "name": "ipython",
    "version": 2
   },
   "file_extension": ".py",
   "mimetype": "text/x-python",
   "name": "python",
   "nbconvert_exporter": "python",
   "pygments_lexer": "ipython2",
   "version": "2.7.14"
  }
 },
 "nbformat": 4,
 "nbformat_minor": 2
}
